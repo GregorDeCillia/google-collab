{
  "cells": [
    {
      "cell_type": "markdown",
      "metadata": {
        "id": "view-in-github",
        "colab_type": "text"
      },
      "source": [
        "<a href=\"https://colab.research.google.com/github/GregorDeCillia/google-collab/blob/main/fcc_book_recommendation_knn.ipynb\" target=\"_parent\"><img src=\"https://colab.research.google.com/assets/colab-badge.svg\" alt=\"Open In Colab\"/></a>"
      ]
    },
    {
      "cell_type": "code",
      "execution_count": 1,
      "metadata": {
        "id": "Y1onB6kUvo4Z"
      },
      "outputs": [],
      "source": [
        "# import libraries (you may add additional imports but you may not have to)\n",
        "import numpy as np\n",
        "import pandas as pd\n",
        "from scipy.sparse import csr_matrix\n",
        "from sklearn.neighbors import NearestNeighbors\n",
        "import matplotlib.pyplot as plt"
      ]
    },
    {
      "cell_type": "code",
      "execution_count": 2,
      "metadata": {
        "id": "iAQGqqO_vo4d",
        "outputId": "f1e0dda5-2463-4ff3-c885-b2e4f14aa638",
        "colab": {
          "base_uri": "https://localhost:8080/"
        }
      },
      "outputs": [
        {
          "output_type": "stream",
          "name": "stdout",
          "text": [
            "--2025-06-25 11:55:42--  https://cdn.freecodecamp.org/project-data/books/book-crossings.zip\n",
            "Resolving cdn.freecodecamp.org (cdn.freecodecamp.org)... 104.26.3.33, 172.67.70.149, 104.26.2.33, ...\n",
            "Connecting to cdn.freecodecamp.org (cdn.freecodecamp.org)|104.26.3.33|:443... connected.\n",
            "HTTP request sent, awaiting response... 200 OK\n",
            "Length: 26085508 (25M) [application/zip]\n",
            "Saving to: ‘book-crossings.zip’\n",
            "\n",
            "book-crossings.zip  100%[===================>]  24.88M  --.-KB/s    in 0.1s    \n",
            "\n",
            "2025-06-25 11:55:42 (191 MB/s) - ‘book-crossings.zip’ saved [26085508/26085508]\n",
            "\n",
            "Archive:  book-crossings.zip\n",
            "  inflating: BX-Book-Ratings.csv     \n",
            "  inflating: BX-Books.csv            \n",
            "  inflating: BX-Users.csv            \n"
          ]
        }
      ],
      "source": [
        "# get data files\n",
        "!wget https://cdn.freecodecamp.org/project-data/books/book-crossings.zip\n",
        "\n",
        "!unzip book-crossings.zip\n",
        "\n",
        "books_filename = 'BX-Books.csv'\n",
        "ratings_filename = 'BX-Book-Ratings.csv'"
      ]
    },
    {
      "cell_type": "code",
      "execution_count": 3,
      "metadata": {
        "id": "NClILWOiEd6Q"
      },
      "outputs": [],
      "source": [
        "# import csv data into dataframes\n",
        "df_books = pd.read_csv(\n",
        "    books_filename,\n",
        "    encoding = \"ISO-8859-1\",\n",
        "    sep=\";\",\n",
        "    header=0,\n",
        "    names=['isbn', 'title', 'author'],\n",
        "    usecols=['isbn', 'title', 'author'],\n",
        "    dtype={'isbn': 'str', 'title': 'str', 'author': 'str'})\n",
        "\n",
        "df_ratings = pd.read_csv(\n",
        "    ratings_filename,\n",
        "    encoding = \"ISO-8859-1\",\n",
        "    sep=\";\",\n",
        "    header=0,\n",
        "    names=['user', 'isbn', 'rating'],\n",
        "    usecols=['user', 'isbn', 'rating'],\n",
        "    dtype={'user': 'int32', 'isbn': 'str', 'rating': 'float32'})\n"
      ]
    },
    {
      "cell_type": "code",
      "execution_count": 12,
      "metadata": {
        "id": "xAcXjkCFCh0A",
        "outputId": "0919388b-0b0b-48a2-8e65-5880043ca735",
        "colab": {
          "base_uri": "https://localhost:8080/"
        }
      },
      "outputs": [
        {
          "output_type": "stream",
          "name": "stdout",
          "text": [
            "           isbn                                              title  \\\n",
            "706  0446672211  Where the Heart Is (Oprah's Book Club (Paperba...   \n",
            "\n",
            "           author  \n",
            "706  Billie Letts  \n",
            "             isbn               title              author\n",
            "45     0671888587  I'll Be Seeing You  Mary Higgins Clark\n",
            "74047  0553567187  I'll Be Seeing You    LURLENE MCDANIEL\n",
            "           isbn                title        author\n",
            "252  0316782505  The Weight of Water  Anita Shreve\n",
            "              isbn        title          author\n",
            "3703    0345447840  The Surgeon  TESS GERRITSEN\n",
            "20026   0345447832  The Surgeon  TESS GERRITSEN\n",
            "53898   0451180240  The Surgeon     Francis Roe\n",
            "221784  0749902698  The Surgeon     Francis Roe\n",
            "             isbn                     title      author\n",
            "3022   0060987561  I Know This Much Is True  Wally Lamb\n",
            "33851  0061097640  I Know This Much Is True  Wally Lamb\n",
            "40005  0965605914  I Know This Much Is True  Wally Lamb\n",
            "55265  0694519405  I Know This Much Is True  Wally Lamb\n",
            "           user        isbn  rating\n",
            "2158     277478  0671888587     0.0\n",
            "3644     278137  0671888587     0.0\n",
            "9617         39  0671888587     7.0\n",
            "10729       487  0671888587     6.0\n",
            "33292      7904  0671888587     0.0\n",
            "...         ...         ...     ...\n",
            "1117151  268032  0671888587     8.0\n",
            "1129862  271195  0671888587     0.0\n",
            "1131229  271284  0671888587     0.0\n",
            "1137934  273979  0671888587     0.0\n",
            "1141807  274308  0671888587     0.0\n",
            "\n",
            "[140 rows x 3 columns]\n"
          ]
        }
      ],
      "source": [
        "# add your code here - consider creating a new cell for each section of code\n",
        "#print(df_books)\n",
        "#print(df_ratings)\n",
        "recommended_books = [\"I'll Be Seeing You\", 'The Weight of Water', 'The Surgeon', 'I Know This Much Is True']\n",
        "print(df_books.loc[df_books['title'] == \"Where the Heart Is (Oprah's Book Club (Paperback))\"])\n",
        "print(df_books.loc[df_books['title'] == recommended_books[0]])\n",
        "print(df_books.loc[df_books['title'] == recommended_books[1]])\n",
        "print(df_books.loc[df_books['title'] == recommended_books[2]])\n",
        "print(df_books.loc[df_books['title'] == recommended_books[3]])\n",
        "\n",
        "print(df_ratings.loc[df_ratings['isbn'] == '0671888587'])\n"
      ]
    },
    {
      "cell_type": "code",
      "source": [
        "df_users = pd.read_csv('BX-Users.csv', encoding = \"ISO-8859-1\",\n",
        "    sep=\";\",\n",
        "    header=0,)\n",
        "print(df_users)"
      ],
      "metadata": {
        "id": "eLglE4eHA2Je",
        "outputId": "aabd2edb-2a47-46fc-8649-83bbba1bc213",
        "colab": {
          "base_uri": "https://localhost:8080/"
        }
      },
      "execution_count": 13,
      "outputs": [
        {
          "output_type": "stream",
          "name": "stdout",
          "text": [
            "        User-ID                            Location   Age\n",
            "0             1                  nyc, new york, usa   NaN\n",
            "1             2           stockton, california, usa  18.0\n",
            "2             3     moscow, yukon territory, russia   NaN\n",
            "3             4           porto, v.n.gaia, portugal  17.0\n",
            "4             5  farnborough, hants, united kingdom   NaN\n",
            "...         ...                                 ...   ...\n",
            "278853   278854               portland, oregon, usa   NaN\n",
            "278854   278855  tacoma, washington, united kingdom  50.0\n",
            "278855   278856           brampton, ontario, canada   NaN\n",
            "278856   278857           knoxville, tennessee, usa   NaN\n",
            "278857   278858                dublin, n/a, ireland   NaN\n",
            "\n",
            "[278858 rows x 3 columns]\n"
          ]
        }
      ]
    },
    {
      "cell_type": "code",
      "execution_count": null,
      "metadata": {
        "id": "f5ZUd-L1SQz7"
      },
      "outputs": [],
      "source": [
        "# function to return recommended books - this will be tested\n",
        "def get_recommends(book = \"\"):\n",
        "\n",
        "\n",
        "  return recommended_books"
      ]
    },
    {
      "cell_type": "code",
      "execution_count": null,
      "metadata": {
        "id": "jd2SLCh8oxMh"
      },
      "outputs": [],
      "source": [
        "books = get_recommends(\"Where the Heart Is (Oprah's Book Club (Paperback))\")\n",
        "print(books)\n",
        "\n",
        "def test_book_recommendation():\n",
        "  test_pass = True\n",
        "  recommends = get_recommends(\"Where the Heart Is (Oprah's Book Club (Paperback))\")\n",
        "  if recommends[0] != \"Where the Heart Is (Oprah's Book Club (Paperback))\":\n",
        "    test_pass = False\n",
        "  recommended_books = [\"I'll Be Seeing You\", 'The Weight of Water', 'The Surgeon', 'I Know This Much Is True']\n",
        "  recommended_books_dist = [0.8, 0.77, 0.77, 0.77]\n",
        "  for i in range(2):\n",
        "    if recommends[1][i][0] not in recommended_books:\n",
        "      test_pass = False\n",
        "    if abs(recommends[1][i][1] - recommended_books_dist[i]) >= 0.05:\n",
        "      test_pass = False\n",
        "  if test_pass:\n",
        "    print(\"You passed the challenge! 🎉🎉🎉🎉🎉\")\n",
        "  else:\n",
        "    print(\"You haven't passed yet. Keep trying!\")\n",
        "\n",
        "test_book_recommendation()"
      ]
    }
  ],
  "metadata": {
    "colab": {
      "name": "fcc_book_recommendation_knn.ipynb",
      "provenance": [],
      "include_colab_link": true
    },
    "kernelspec": {
      "display_name": "Python 3",
      "language": "python",
      "name": "python3"
    },
    "language_info": {
      "codemirror_mode": {
        "name": "ipython",
        "version": 3
      },
      "file_extension": ".py",
      "mimetype": "text/x-python",
      "name": "python",
      "nbconvert_exporter": "python",
      "pygments_lexer": "ipython3",
      "version": "3.6.5"
    }
  },
  "nbformat": 4,
  "nbformat_minor": 0
}